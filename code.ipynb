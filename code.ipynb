{
 "cells": [
  {
   "cell_type": "code",
   "execution_count": 1,
   "metadata": {},
   "outputs": [
    {
     "name": "stdout",
     "output_type": "stream",
     "text": [
      "Looking in indexes: https://mirrors.bfsu.edu.cn/pypi/web/simple\n",
      "Requirement already satisfied: langchain in ./miniconda3/lib/python3.8/site-packages (0.0.352)\n",
      "Requirement already satisfied: requests<3,>=2 in ./miniconda3/lib/python3.8/site-packages (from langchain) (2.24.0)\n",
      "Requirement already satisfied: langsmith<0.1.0,>=0.0.70 in ./miniconda3/lib/python3.8/site-packages (from langchain) (0.0.75)\n",
      "Requirement already satisfied: dataclasses-json<0.7,>=0.5.7 in ./miniconda3/lib/python3.8/site-packages (from langchain) (0.6.3)\n",
      "Requirement already satisfied: langchain-community<0.1,>=0.0.2 in ./miniconda3/lib/python3.8/site-packages (from langchain) (0.0.6)\n",
      "Requirement already satisfied: SQLAlchemy<3,>=1.4 in ./miniconda3/lib/python3.8/site-packages (from langchain) (2.0.24)\n",
      "Requirement already satisfied: langchain-core<0.2,>=0.1 in ./miniconda3/lib/python3.8/site-packages (from langchain) (0.1.3)\n",
      "Requirement already satisfied: jsonpatch<2.0,>=1.33 in ./miniconda3/lib/python3.8/site-packages (from langchain) (1.33)\n",
      "Requirement already satisfied: PyYAML>=5.3 in ./miniconda3/lib/python3.8/site-packages (from langchain) (6.0.1)\n",
      "Requirement already satisfied: tenacity<9.0.0,>=8.1.0 in ./miniconda3/lib/python3.8/site-packages (from langchain) (8.2.3)\n",
      "Requirement already satisfied: async-timeout<5.0.0,>=4.0.0; python_version < \"3.11\" in ./miniconda3/lib/python3.8/site-packages (from langchain) (4.0.3)\n",
      "Requirement already satisfied: numpy<2,>=1 in ./miniconda3/lib/python3.8/site-packages (from langchain) (1.19.5)\n",
      "Requirement already satisfied: pydantic<3,>=1 in ./miniconda3/lib/python3.8/site-packages (from langchain) (2.5.3)\n",
      "Requirement already satisfied: aiohttp<4.0.0,>=3.8.3 in ./miniconda3/lib/python3.8/site-packages (from langchain) (3.9.1)\n",
      "Requirement already satisfied: chardet<4,>=3.0.2 in ./miniconda3/lib/python3.8/site-packages (from requests<3,>=2->langchain) (3.0.4)\n",
      "Requirement already satisfied: urllib3!=1.25.0,!=1.25.1,<1.26,>=1.21.1 in ./miniconda3/lib/python3.8/site-packages (from requests<3,>=2->langchain) (1.25.11)\n",
      "Requirement already satisfied: idna<3,>=2.5 in ./miniconda3/lib/python3.8/site-packages (from requests<3,>=2->langchain) (2.10)\n",
      "Requirement already satisfied: certifi>=2017.4.17 in ./miniconda3/lib/python3.8/site-packages (from requests<3,>=2->langchain) (2020.12.5)\n",
      "Requirement already satisfied: typing-inspect<1,>=0.4.0 in ./miniconda3/lib/python3.8/site-packages (from dataclasses-json<0.7,>=0.5.7->langchain) (0.9.0)\n",
      "Requirement already satisfied: marshmallow<4.0.0,>=3.18.0 in ./miniconda3/lib/python3.8/site-packages (from dataclasses-json<0.7,>=0.5.7->langchain) (3.20.1)\n",
      "Requirement already satisfied: typing-extensions>=4.2.0 in ./miniconda3/lib/python3.8/site-packages (from SQLAlchemy<3,>=1.4->langchain) (4.9.0)\n",
      "Requirement already satisfied: greenlet!=0.4.17; platform_machine == \"aarch64\" or (platform_machine == \"ppc64le\" or (platform_machine == \"x86_64\" or (platform_machine == \"amd64\" or (platform_machine == \"AMD64\" or (platform_machine == \"win32\" or platform_machine == \"WIN32\"))))) in ./miniconda3/lib/python3.8/site-packages (from SQLAlchemy<3,>=1.4->langchain) (3.0.3)\n",
      "Requirement already satisfied: packaging<24.0,>=23.2 in ./miniconda3/lib/python3.8/site-packages (from langchain-core<0.2,>=0.1->langchain) (23.2)\n",
      "Requirement already satisfied: anyio<5,>=3 in ./miniconda3/lib/python3.8/site-packages (from langchain-core<0.2,>=0.1->langchain) (4.2.0)\n",
      "Requirement already satisfied: jsonpointer>=1.9 in ./miniconda3/lib/python3.8/site-packages (from jsonpatch<2.0,>=1.33->langchain) (2.4)\n",
      "Requirement already satisfied: annotated-types>=0.4.0 in ./miniconda3/lib/python3.8/site-packages (from pydantic<3,>=1->langchain) (0.6.0)\n",
      "Requirement already satisfied: pydantic-core==2.14.6 in ./miniconda3/lib/python3.8/site-packages (from pydantic<3,>=1->langchain) (2.14.6)\n",
      "Requirement already satisfied: yarl<2.0,>=1.0 in ./miniconda3/lib/python3.8/site-packages (from aiohttp<4.0.0,>=3.8.3->langchain) (1.9.4)\n",
      "Requirement already satisfied: frozenlist>=1.1.1 in ./miniconda3/lib/python3.8/site-packages (from aiohttp<4.0.0,>=3.8.3->langchain) (1.4.1)\n",
      "Requirement already satisfied: aiosignal>=1.1.2 in ./miniconda3/lib/python3.8/site-packages (from aiohttp<4.0.0,>=3.8.3->langchain) (1.3.1)\n",
      "Requirement already satisfied: attrs>=17.3.0 in ./miniconda3/lib/python3.8/site-packages (from aiohttp<4.0.0,>=3.8.3->langchain) (20.3.0)\n",
      "Requirement already satisfied: multidict<7.0,>=4.5 in ./miniconda3/lib/python3.8/site-packages (from aiohttp<4.0.0,>=3.8.3->langchain) (6.0.4)\n",
      "Requirement already satisfied: mypy-extensions>=0.3.0 in ./miniconda3/lib/python3.8/site-packages (from typing-inspect<1,>=0.4.0->dataclasses-json<0.7,>=0.5.7->langchain) (1.0.0)\n",
      "Requirement already satisfied: exceptiongroup>=1.0.2; python_version < \"3.11\" in ./miniconda3/lib/python3.8/site-packages (from anyio<5,>=3->langchain-core<0.2,>=0.1->langchain) (1.2.0)\n",
      "Requirement already satisfied: sniffio>=1.1 in ./miniconda3/lib/python3.8/site-packages (from anyio<5,>=3->langchain-core<0.2,>=0.1->langchain) (1.3.0)\n",
      "Looking in indexes: https://mirrors.bfsu.edu.cn/pypi/web/simple\n",
      "Requirement already satisfied: pypdf in ./miniconda3/lib/python3.8/site-packages (3.17.4)\n",
      "Requirement already satisfied: typing_extensions>=3.7.4.3; python_version < \"3.10\" in ./miniconda3/lib/python3.8/site-packages (from pypdf) (4.9.0)\n",
      "Looking in indexes: https://mirrors.bfsu.edu.cn/pypi/web/simple\n",
      "Requirement already satisfied: sentence_transformers in ./miniconda3/lib/python3.8/site-packages (2.2.2)\n",
      "Requirement already satisfied: scipy in ./miniconda3/lib/python3.8/site-packages (from sentence_transformers) (1.4.1)\n",
      "Requirement already satisfied: nltk in ./miniconda3/lib/python3.8/site-packages (from sentence_transformers) (3.5)\n",
      "Requirement already satisfied: sentencepiece in ./miniconda3/lib/python3.8/site-packages (from sentence_transformers) (0.1.99)\n",
      "Requirement already satisfied: torchvision in ./miniconda3/lib/python3.8/site-packages (from sentence_transformers) (0.14.1+cu117)\n",
      "Requirement already satisfied: tqdm in ./miniconda3/lib/python3.8/site-packages (from sentence_transformers) (4.51.0)\n",
      "Requirement already satisfied: torch>=1.6.0 in ./miniconda3/lib/python3.8/site-packages (from sentence_transformers) (1.13.1+cu117)\n",
      "Requirement already satisfied: scikit-learn in ./miniconda3/lib/python3.8/site-packages (from sentence_transformers) (0.24.1)\n",
      "Requirement already satisfied: transformers<5.0.0,>=4.6.0 in ./miniconda3/lib/python3.8/site-packages (from sentence_transformers) (4.27.1)\n",
      "Requirement already satisfied: huggingface-hub>=0.4.0 in ./miniconda3/lib/python3.8/site-packages (from sentence_transformers) (0.20.1)\n",
      "Requirement already satisfied: numpy in ./miniconda3/lib/python3.8/site-packages (from sentence_transformers) (1.19.5)\n",
      "Requirement already satisfied: click in ./miniconda3/lib/python3.8/site-packages (from nltk->sentence_transformers) (7.1.2)\n",
      "Requirement already satisfied: regex in ./miniconda3/lib/python3.8/site-packages (from nltk->sentence_transformers) (2020.11.13)\n",
      "Requirement already satisfied: joblib in ./miniconda3/lib/python3.8/site-packages (from nltk->sentence_transformers) (1.0.0)\n",
      "Requirement already satisfied: typing-extensions in ./miniconda3/lib/python3.8/site-packages (from torchvision->sentence_transformers) (4.9.0)\n",
      "Requirement already satisfied: pillow!=8.3.*,>=5.3.0 in ./miniconda3/lib/python3.8/site-packages (from torchvision->sentence_transformers) (8.0.1)\n",
      "Requirement already satisfied: requests in ./miniconda3/lib/python3.8/site-packages (from torchvision->sentence_transformers) (2.24.0)\n",
      "Requirement already satisfied: threadpoolctl>=2.0.0 in ./miniconda3/lib/python3.8/site-packages (from scikit-learn->sentence_transformers) (2.1.0)\n",
      "Requirement already satisfied: pyyaml>=5.1 in ./miniconda3/lib/python3.8/site-packages (from transformers<5.0.0,>=4.6.0->sentence_transformers) (6.0.1)\n",
      "Requirement already satisfied: filelock in ./miniconda3/lib/python3.8/site-packages (from transformers<5.0.0,>=4.6.0->sentence_transformers) (3.13.1)\n",
      "Requirement already satisfied: packaging>=20.0 in ./miniconda3/lib/python3.8/site-packages (from transformers<5.0.0,>=4.6.0->sentence_transformers) (23.2)\n",
      "Requirement already satisfied: tokenizers!=0.11.3,<0.14,>=0.11.1 in ./miniconda3/lib/python3.8/site-packages (from transformers<5.0.0,>=4.6.0->sentence_transformers) (0.13.3)\n",
      "Requirement already satisfied: fsspec>=2023.5.0 in ./miniconda3/lib/python3.8/site-packages (from huggingface-hub>=0.4.0->sentence_transformers) (2023.12.2)\n",
      "Requirement already satisfied: chardet<4,>=3.0.2 in ./miniconda3/lib/python3.8/site-packages (from requests->torchvision->sentence_transformers) (3.0.4)\n",
      "Requirement already satisfied: certifi>=2017.4.17 in ./miniconda3/lib/python3.8/site-packages (from requests->torchvision->sentence_transformers) (2020.12.5)\n",
      "Requirement already satisfied: idna<3,>=2.5 in ./miniconda3/lib/python3.8/site-packages (from requests->torchvision->sentence_transformers) (2.10)\n",
      "Requirement already satisfied: urllib3!=1.25.0,!=1.25.1,<1.26,>=1.21.1 in ./miniconda3/lib/python3.8/site-packages (from requests->torchvision->sentence_transformers) (1.25.11)\n",
      "Looking in indexes: https://mirrors.bfsu.edu.cn/pypi/web/simple\n",
      "Requirement already satisfied: markupsafe==2.0.1 in ./miniconda3/lib/python3.8/site-packages (2.0.1)\n",
      "Looking in indexes: https://mirrors.bfsu.edu.cn/pypi/web/simple\n",
      "Requirement already satisfied: faiss-cpu in ./miniconda3/lib/python3.8/site-packages (1.7.4)\n",
      "Looking in indexes: https://mirrors.bfsu.edu.cn/pypi/web/simple\n",
      "Requirement already satisfied: pymupdf==1.19.0 in ./miniconda3/lib/python3.8/site-packages (1.19.0)\n"
     ]
    }
   ],
   "source": [
    "!pip install langchain\n",
    "!pip install pypdf\n",
    "!pip install sentence_transformers\n",
    "!pip install markupsafe==2.0.1\n",
    "!pip install faiss-cpu\n",
    "!pip install pymupdf==1.19.0 "
   ]
  },
  {
   "cell_type": "code",
   "execution_count": 2,
   "metadata": {},
   "outputs": [
    {
     "name": "stdout",
     "output_type": "stream",
     "text": [
      "--2023-12-29 12:10:11--  https://bj.bcebos.com/v1/ai-studio-online/5e882eb5d58648658950dd6ac9afb5ced4ca7a30e1f8414ba711967980b05a12?responseContentDisposition=attachment%3B%20filename%3Dllama_langchain%20.zip\n",
      "Resolving bj.bcebos.com (bj.bcebos.com)... 111.63.96.3, 2409:8c04:1001:1002:0:ff:b001:368a\n",
      "Connecting to bj.bcebos.com (bj.bcebos.com)|111.63.96.3|:443... connected.\n",
      "HTTP request sent, awaiting response... 200 OK\n",
      "Length: 898022241 (856M) [application/octet-stream]\n",
      "Saving to: ‘llama_langchain.zip’\n",
      "\n",
      "llama_langchain.zip 100%[===================>] 856.42M  70.5MB/s    in 23s     \n",
      "\n",
      "2023-12-29 12:10:34 (37.5 MB/s) - ‘llama_langchain.zip’ saved [898022241/898022241]\n",
      "\n",
      "Archive:  ./llama_langchain.zip\n",
      "replace llama_langchain/__init__.py? [y]es, [n]o, [A]ll, [N]one, [r]ename: ^C\n"
     ]
    }
   ],
   "source": [
    "# !wget -O llama_langchain.zip https://bj.bcebos.com/v1/ai-studio-online/5e882eb5d58648658950dd6ac9afb5ced4ca7a30e1f8414ba711967980b05a12?responseContentDisposition=attachment%3B%20filename%3Dllama_langchain%20.zip\n",
    "# !unzip  ./llama_langchain.zip"
   ]
  },
  {
   "cell_type": "code",
   "execution_count": 3,
   "metadata": {},
   "outputs": [],
   "source": [
    "from langchain.document_loaders import PyPDFLoader\n",
    "from langchain.text_splitter import RecursiveCharacterTextSplitter\n",
    "from langchain.embeddings import HuggingFaceEmbeddings\n",
    "from langchain.embeddings.huggingface import HuggingFaceEmbeddings\n",
    "from langchain.vectorstores import FAISS\n",
    "from tqdm import tqdm \n",
    "from langchain.document_loaders import TextLoader,PyPDFLoader\n",
    "from llama_langchain.models.chinese_text_splitter import ChineseTextSplitter\n",
    "from typing import Any, List, Dict, Mapping, Optional\n",
    "from langchain import PromptTemplate\n",
    "import os"
   ]
  },
  {
   "cell_type": "code",
   "execution_count": 4,
   "metadata": {},
   "outputs": [
    {
     "ename": "KeyboardInterrupt",
     "evalue": "",
     "output_type": "error",
     "traceback": [
      "\u001b[0;31m---------------------------------------------------------------------------\u001b[0m",
      "\u001b[0;31mKeyboardInterrupt\u001b[0m                         Traceback (most recent call last)",
      "\u001b[0;32m<ipython-input-4-1c7d733fa4db>\u001b[0m in \u001b[0;36m<module>\u001b[0;34m\u001b[0m\n\u001b[1;32m     10\u001b[0m \u001b[0mdocuments\u001b[0m \u001b[0;34m=\u001b[0m \u001b[0;34m[\u001b[0m\u001b[0;34m]\u001b[0m\u001b[0;34m\u001b[0m\u001b[0;34m\u001b[0m\u001b[0m\n\u001b[1;32m     11\u001b[0m \u001b[0;32mfor\u001b[0m \u001b[0mloader\u001b[0m \u001b[0;32min\u001b[0m \u001b[0mloaders\u001b[0m\u001b[0;34m:\u001b[0m\u001b[0;34m\u001b[0m\u001b[0;34m\u001b[0m\u001b[0m\n\u001b[0;32m---> 12\u001b[0;31m     \u001b[0mdocuments\u001b[0m \u001b[0;34m+=\u001b[0m \u001b[0mloader\u001b[0m\u001b[0;34m.\u001b[0m\u001b[0mload_and_split\u001b[0m\u001b[0;34m(\u001b[0m\u001b[0;34m)\u001b[0m\u001b[0;34m\u001b[0m\u001b[0;34m\u001b[0m\u001b[0m\n\u001b[0m\u001b[1;32m     13\u001b[0m \u001b[0;34m\u001b[0m\u001b[0m\n\u001b[1;32m     14\u001b[0m \u001b[0;31m# 数据清洗，消除字符串里面的’\\n‘\u001b[0m\u001b[0;34m\u001b[0m\u001b[0;34m\u001b[0m\u001b[0;34m\u001b[0m\u001b[0m\n",
      "\u001b[0;32m~/miniconda3/lib/python3.8/site-packages/langchain_community/document_loaders/base.py\u001b[0m in \u001b[0;36mload_and_split\u001b[0;34m(self, text_splitter)\u001b[0m\n\u001b[1;32m     48\u001b[0m         \u001b[0;32melse\u001b[0m\u001b[0;34m:\u001b[0m\u001b[0;34m\u001b[0m\u001b[0;34m\u001b[0m\u001b[0m\n\u001b[1;32m     49\u001b[0m             \u001b[0m_text_splitter\u001b[0m \u001b[0;34m=\u001b[0m \u001b[0mtext_splitter\u001b[0m\u001b[0;34m\u001b[0m\u001b[0;34m\u001b[0m\u001b[0m\n\u001b[0;32m---> 50\u001b[0;31m         \u001b[0mdocs\u001b[0m \u001b[0;34m=\u001b[0m \u001b[0mself\u001b[0m\u001b[0;34m.\u001b[0m\u001b[0mload\u001b[0m\u001b[0;34m(\u001b[0m\u001b[0;34m)\u001b[0m\u001b[0;34m\u001b[0m\u001b[0;34m\u001b[0m\u001b[0m\n\u001b[0m\u001b[1;32m     51\u001b[0m         \u001b[0;32mreturn\u001b[0m \u001b[0m_text_splitter\u001b[0m\u001b[0;34m.\u001b[0m\u001b[0msplit_documents\u001b[0m\u001b[0;34m(\u001b[0m\u001b[0mdocs\u001b[0m\u001b[0;34m)\u001b[0m\u001b[0;34m\u001b[0m\u001b[0;34m\u001b[0m\u001b[0m\n\u001b[1;32m     52\u001b[0m \u001b[0;34m\u001b[0m\u001b[0m\n",
      "\u001b[0;32m~/miniconda3/lib/python3.8/site-packages/langchain_community/document_loaders/pdf.py\u001b[0m in \u001b[0;36mload\u001b[0;34m(self)\u001b[0m\n\u001b[1;32m    160\u001b[0m     \u001b[0;32mdef\u001b[0m \u001b[0mload\u001b[0m\u001b[0;34m(\u001b[0m\u001b[0mself\u001b[0m\u001b[0;34m)\u001b[0m \u001b[0;34m->\u001b[0m \u001b[0mList\u001b[0m\u001b[0;34m[\u001b[0m\u001b[0mDocument\u001b[0m\u001b[0;34m]\u001b[0m\u001b[0;34m:\u001b[0m\u001b[0;34m\u001b[0m\u001b[0;34m\u001b[0m\u001b[0m\n\u001b[1;32m    161\u001b[0m         \u001b[0;34m\"\"\"Load given path as pages.\"\"\"\u001b[0m\u001b[0;34m\u001b[0m\u001b[0;34m\u001b[0m\u001b[0m\n\u001b[0;32m--> 162\u001b[0;31m         \u001b[0;32mreturn\u001b[0m \u001b[0mlist\u001b[0m\u001b[0;34m(\u001b[0m\u001b[0mself\u001b[0m\u001b[0;34m.\u001b[0m\u001b[0mlazy_load\u001b[0m\u001b[0;34m(\u001b[0m\u001b[0;34m)\u001b[0m\u001b[0;34m)\u001b[0m\u001b[0;34m\u001b[0m\u001b[0;34m\u001b[0m\u001b[0m\n\u001b[0m\u001b[1;32m    163\u001b[0m \u001b[0;34m\u001b[0m\u001b[0m\n\u001b[1;32m    164\u001b[0m     def lazy_load(\n",
      "\u001b[0;32m~/miniconda3/lib/python3.8/site-packages/langchain_community/document_loaders/pdf.py\u001b[0m in \u001b[0;36mlazy_load\u001b[0;34m(self)\u001b[0m\n\u001b[1;32m    170\u001b[0m         \u001b[0;32melse\u001b[0m\u001b[0;34m:\u001b[0m\u001b[0;34m\u001b[0m\u001b[0;34m\u001b[0m\u001b[0m\n\u001b[1;32m    171\u001b[0m             \u001b[0mblob\u001b[0m \u001b[0;34m=\u001b[0m \u001b[0mBlob\u001b[0m\u001b[0;34m.\u001b[0m\u001b[0mfrom_path\u001b[0m\u001b[0;34m(\u001b[0m\u001b[0mself\u001b[0m\u001b[0;34m.\u001b[0m\u001b[0mfile_path\u001b[0m\u001b[0;34m)\u001b[0m\u001b[0;34m\u001b[0m\u001b[0;34m\u001b[0m\u001b[0m\n\u001b[0;32m--> 172\u001b[0;31m         \u001b[0;32myield\u001b[0m \u001b[0;32mfrom\u001b[0m \u001b[0mself\u001b[0m\u001b[0;34m.\u001b[0m\u001b[0mparser\u001b[0m\u001b[0;34m.\u001b[0m\u001b[0mparse\u001b[0m\u001b[0;34m(\u001b[0m\u001b[0mblob\u001b[0m\u001b[0;34m)\u001b[0m\u001b[0;34m\u001b[0m\u001b[0;34m\u001b[0m\u001b[0m\n\u001b[0m\u001b[1;32m    173\u001b[0m \u001b[0;34m\u001b[0m\u001b[0m\n\u001b[1;32m    174\u001b[0m \u001b[0;34m\u001b[0m\u001b[0m\n",
      "\u001b[0;32m~/miniconda3/lib/python3.8/site-packages/langchain_community/document_loaders/base.py\u001b[0m in \u001b[0;36mparse\u001b[0;34m(self, blob)\u001b[0m\n\u001b[1;32m    100\u001b[0m             \u001b[0mList\u001b[0m \u001b[0mof\u001b[0m \u001b[0mdocuments\u001b[0m\u001b[0;34m\u001b[0m\u001b[0;34m\u001b[0m\u001b[0m\n\u001b[1;32m    101\u001b[0m         \"\"\"\n\u001b[0;32m--> 102\u001b[0;31m         \u001b[0;32mreturn\u001b[0m \u001b[0mlist\u001b[0m\u001b[0;34m(\u001b[0m\u001b[0mself\u001b[0m\u001b[0;34m.\u001b[0m\u001b[0mlazy_parse\u001b[0m\u001b[0;34m(\u001b[0m\u001b[0mblob\u001b[0m\u001b[0;34m)\u001b[0m\u001b[0;34m)\u001b[0m\u001b[0;34m\u001b[0m\u001b[0;34m\u001b[0m\u001b[0m\n\u001b[0m",
      "\u001b[0;32m~/miniconda3/lib/python3.8/site-packages/langchain_community/document_loaders/parsers/pdf.py\u001b[0m in \u001b[0;36mlazy_parse\u001b[0;34m(self, blob)\u001b[0m\n\u001b[1;32m     93\u001b[0m         \u001b[0;32mwith\u001b[0m \u001b[0mblob\u001b[0m\u001b[0;34m.\u001b[0m\u001b[0mas_bytes_io\u001b[0m\u001b[0;34m(\u001b[0m\u001b[0;34m)\u001b[0m \u001b[0;32mas\u001b[0m \u001b[0mpdf_file_obj\u001b[0m\u001b[0;34m:\u001b[0m\u001b[0;34m\u001b[0m\u001b[0;34m\u001b[0m\u001b[0m\n\u001b[1;32m     94\u001b[0m             \u001b[0mpdf_reader\u001b[0m \u001b[0;34m=\u001b[0m \u001b[0mpypdf\u001b[0m\u001b[0;34m.\u001b[0m\u001b[0mPdfReader\u001b[0m\u001b[0;34m(\u001b[0m\u001b[0mpdf_file_obj\u001b[0m\u001b[0;34m,\u001b[0m \u001b[0mpassword\u001b[0m\u001b[0;34m=\u001b[0m\u001b[0mself\u001b[0m\u001b[0;34m.\u001b[0m\u001b[0mpassword\u001b[0m\u001b[0;34m)\u001b[0m\u001b[0;34m\u001b[0m\u001b[0;34m\u001b[0m\u001b[0m\n\u001b[0;32m---> 95\u001b[0;31m             yield from [\n\u001b[0m\u001b[1;32m     96\u001b[0m                 Document(\n\u001b[1;32m     97\u001b[0m                     \u001b[0mpage_content\u001b[0m\u001b[0;34m=\u001b[0m\u001b[0mpage\u001b[0m\u001b[0;34m.\u001b[0m\u001b[0mextract_text\u001b[0m\u001b[0;34m(\u001b[0m\u001b[0;34m)\u001b[0m\u001b[0;34m\u001b[0m\u001b[0;34m\u001b[0m\u001b[0m\n",
      "\u001b[0;32m~/miniconda3/lib/python3.8/site-packages/langchain_community/document_loaders/parsers/pdf.py\u001b[0m in \u001b[0;36m<listcomp>\u001b[0;34m(.0)\u001b[0m\n\u001b[1;32m     95\u001b[0m             yield from [\n\u001b[1;32m     96\u001b[0m                 Document(\n\u001b[0;32m---> 97\u001b[0;31m                     \u001b[0mpage_content\u001b[0m\u001b[0;34m=\u001b[0m\u001b[0mpage\u001b[0m\u001b[0;34m.\u001b[0m\u001b[0mextract_text\u001b[0m\u001b[0;34m(\u001b[0m\u001b[0;34m)\u001b[0m\u001b[0;34m\u001b[0m\u001b[0;34m\u001b[0m\u001b[0m\n\u001b[0m\u001b[1;32m     98\u001b[0m                     \u001b[0;34m+\u001b[0m \u001b[0mself\u001b[0m\u001b[0;34m.\u001b[0m\u001b[0m_extract_images_from_page\u001b[0m\u001b[0;34m(\u001b[0m\u001b[0mpage\u001b[0m\u001b[0;34m)\u001b[0m\u001b[0;34m,\u001b[0m\u001b[0;34m\u001b[0m\u001b[0;34m\u001b[0m\u001b[0m\n\u001b[1;32m     99\u001b[0m                     \u001b[0mmetadata\u001b[0m\u001b[0;34m=\u001b[0m\u001b[0;34m{\u001b[0m\u001b[0;34m\"source\"\u001b[0m\u001b[0;34m:\u001b[0m \u001b[0mblob\u001b[0m\u001b[0;34m.\u001b[0m\u001b[0msource\u001b[0m\u001b[0;34m,\u001b[0m \u001b[0;34m\"page\"\u001b[0m\u001b[0;34m:\u001b[0m \u001b[0mpage_number\u001b[0m\u001b[0;34m}\u001b[0m\u001b[0;34m,\u001b[0m\u001b[0;34m\u001b[0m\u001b[0;34m\u001b[0m\u001b[0m\n",
      "\u001b[0;32m~/miniconda3/lib/python3.8/site-packages/pypdf/_page.py\u001b[0m in \u001b[0;36mextract_text\u001b[0;34m(self, Tj_sep, TJ_sep, orientations, space_width, visitor_operand_before, visitor_operand_after, visitor_text, *args)\u001b[0m\n\u001b[1;32m   2287\u001b[0m             \u001b[0morientations\u001b[0m \u001b[0;34m=\u001b[0m \u001b[0;34m(\u001b[0m\u001b[0morientations\u001b[0m\u001b[0;34m,\u001b[0m\u001b[0;34m)\u001b[0m\u001b[0;34m\u001b[0m\u001b[0;34m\u001b[0m\u001b[0m\n\u001b[1;32m   2288\u001b[0m \u001b[0;34m\u001b[0m\u001b[0m\n\u001b[0;32m-> 2289\u001b[0;31m         return self._extract_text(\n\u001b[0m\u001b[1;32m   2290\u001b[0m             \u001b[0mself\u001b[0m\u001b[0;34m,\u001b[0m\u001b[0;34m\u001b[0m\u001b[0;34m\u001b[0m\u001b[0m\n\u001b[1;32m   2291\u001b[0m             \u001b[0mself\u001b[0m\u001b[0;34m.\u001b[0m\u001b[0mpdf\u001b[0m\u001b[0;34m,\u001b[0m\u001b[0;34m\u001b[0m\u001b[0;34m\u001b[0m\u001b[0m\n",
      "\u001b[0;32m~/miniconda3/lib/python3.8/site-packages/pypdf/_page.py\u001b[0m in \u001b[0;36m_extract_text\u001b[0;34m(self, obj, pdf, orientations, space_width, content_key, visitor_operand_before, visitor_operand_after, visitor_text)\u001b[0m\n\u001b[1;32m   2117\u001b[0m                     \u001b[0;32mreturn\u001b[0m \u001b[0;32mNone\u001b[0m\u001b[0;34m\u001b[0m\u001b[0;34m\u001b[0m\u001b[0m\n\u001b[1;32m   2118\u001b[0m \u001b[0;34m\u001b[0m\u001b[0m\n\u001b[0;32m-> 2119\u001b[0;31m         \u001b[0;32mfor\u001b[0m \u001b[0moperands\u001b[0m\u001b[0;34m,\u001b[0m \u001b[0moperator\u001b[0m \u001b[0;32min\u001b[0m \u001b[0mcontent\u001b[0m\u001b[0;34m.\u001b[0m\u001b[0moperations\u001b[0m\u001b[0;34m:\u001b[0m\u001b[0;34m\u001b[0m\u001b[0;34m\u001b[0m\u001b[0m\n\u001b[0m\u001b[1;32m   2120\u001b[0m             \u001b[0;32mif\u001b[0m \u001b[0mvisitor_operand_before\u001b[0m \u001b[0;32mis\u001b[0m \u001b[0;32mnot\u001b[0m \u001b[0;32mNone\u001b[0m\u001b[0;34m:\u001b[0m\u001b[0;34m\u001b[0m\u001b[0;34m\u001b[0m\u001b[0m\n\u001b[1;32m   2121\u001b[0m                 \u001b[0mvisitor_operand_before\u001b[0m\u001b[0;34m(\u001b[0m\u001b[0moperator\u001b[0m\u001b[0;34m,\u001b[0m \u001b[0moperands\u001b[0m\u001b[0;34m,\u001b[0m \u001b[0mcm_matrix\u001b[0m\u001b[0;34m,\u001b[0m \u001b[0mtm_matrix\u001b[0m\u001b[0;34m)\u001b[0m\u001b[0;34m\u001b[0m\u001b[0;34m\u001b[0m\u001b[0m\n",
      "\u001b[0;32m~/miniconda3/lib/python3.8/site-packages/pypdf/generic/_data_structures.py\u001b[0m in \u001b[0;36moperations\u001b[0;34m(self)\u001b[0m\n\u001b[1;32m   1239\u001b[0m     \u001b[0;32mdef\u001b[0m \u001b[0moperations\u001b[0m\u001b[0;34m(\u001b[0m\u001b[0mself\u001b[0m\u001b[0;34m)\u001b[0m \u001b[0;34m->\u001b[0m \u001b[0mList\u001b[0m\u001b[0;34m[\u001b[0m\u001b[0mTuple\u001b[0m\u001b[0;34m[\u001b[0m\u001b[0mAny\u001b[0m\u001b[0;34m,\u001b[0m \u001b[0mAny\u001b[0m\u001b[0;34m]\u001b[0m\u001b[0;34m]\u001b[0m\u001b[0;34m:\u001b[0m\u001b[0;34m\u001b[0m\u001b[0;34m\u001b[0m\u001b[0m\n\u001b[1;32m   1240\u001b[0m         \u001b[0;32mif\u001b[0m \u001b[0;32mnot\u001b[0m \u001b[0mself\u001b[0m\u001b[0;34m.\u001b[0m\u001b[0m_operations\u001b[0m \u001b[0;32mand\u001b[0m \u001b[0mself\u001b[0m\u001b[0;34m.\u001b[0m\u001b[0m_data\u001b[0m\u001b[0;34m:\u001b[0m\u001b[0;34m\u001b[0m\u001b[0;34m\u001b[0m\u001b[0m\n\u001b[0;32m-> 1241\u001b[0;31m             \u001b[0mself\u001b[0m\u001b[0;34m.\u001b[0m\u001b[0m_parse_content_stream\u001b[0m\u001b[0;34m(\u001b[0m\u001b[0mBytesIO\u001b[0m\u001b[0;34m(\u001b[0m\u001b[0mb_\u001b[0m\u001b[0;34m(\u001b[0m\u001b[0mself\u001b[0m\u001b[0;34m.\u001b[0m\u001b[0m_data\u001b[0m\u001b[0;34m)\u001b[0m\u001b[0;34m)\u001b[0m\u001b[0;34m)\u001b[0m\u001b[0;34m\u001b[0m\u001b[0;34m\u001b[0m\u001b[0m\n\u001b[0m\u001b[1;32m   1242\u001b[0m             \u001b[0mself\u001b[0m\u001b[0;34m.\u001b[0m\u001b[0m_data\u001b[0m \u001b[0;34m=\u001b[0m \u001b[0;34mb\"\"\u001b[0m\u001b[0;34m\u001b[0m\u001b[0;34m\u001b[0m\u001b[0m\n\u001b[1;32m   1243\u001b[0m         \u001b[0;32mreturn\u001b[0m \u001b[0mself\u001b[0m\u001b[0;34m.\u001b[0m\u001b[0m_operations\u001b[0m\u001b[0;34m\u001b[0m\u001b[0;34m\u001b[0m\u001b[0m\n",
      "\u001b[0;32m~/miniconda3/lib/python3.8/site-packages/pypdf/generic/_data_structures.py\u001b[0m in \u001b[0;36m_parse_content_stream\u001b[0;34m(self, stream)\u001b[0m\n\u001b[1;32m   1129\u001b[0m                     \u001b[0mpeek\u001b[0m \u001b[0;34m=\u001b[0m \u001b[0mstream\u001b[0m\u001b[0;34m.\u001b[0m\u001b[0mread\u001b[0m\u001b[0;34m(\u001b[0m\u001b[0;36m1\u001b[0m\u001b[0;34m)\u001b[0m\u001b[0;34m\u001b[0m\u001b[0;34m\u001b[0m\u001b[0m\n\u001b[1;32m   1130\u001b[0m             \u001b[0;32melse\u001b[0m\u001b[0;34m:\u001b[0m\u001b[0;34m\u001b[0m\u001b[0;34m\u001b[0m\u001b[0m\n\u001b[0;32m-> 1131\u001b[0;31m                 \u001b[0moperands\u001b[0m\u001b[0;34m.\u001b[0m\u001b[0mappend\u001b[0m\u001b[0;34m(\u001b[0m\u001b[0mread_object\u001b[0m\u001b[0;34m(\u001b[0m\u001b[0mstream\u001b[0m\u001b[0;34m,\u001b[0m \u001b[0;32mNone\u001b[0m\u001b[0;34m,\u001b[0m \u001b[0mself\u001b[0m\u001b[0;34m.\u001b[0m\u001b[0mforced_encoding\u001b[0m\u001b[0;34m)\u001b[0m\u001b[0;34m)\u001b[0m\u001b[0;34m\u001b[0m\u001b[0;34m\u001b[0m\u001b[0m\n\u001b[0m\u001b[1;32m   1132\u001b[0m \u001b[0;34m\u001b[0m\u001b[0m\n\u001b[1;32m   1133\u001b[0m     \u001b[0;32mdef\u001b[0m \u001b[0m_read_inline_image\u001b[0m\u001b[0;34m(\u001b[0m\u001b[0mself\u001b[0m\u001b[0;34m,\u001b[0m \u001b[0mstream\u001b[0m\u001b[0;34m:\u001b[0m \u001b[0mStreamType\u001b[0m\u001b[0;34m)\u001b[0m \u001b[0;34m->\u001b[0m \u001b[0mDict\u001b[0m\u001b[0;34m[\u001b[0m\u001b[0mstr\u001b[0m\u001b[0;34m,\u001b[0m \u001b[0mAny\u001b[0m\u001b[0;34m]\u001b[0m\u001b[0;34m:\u001b[0m\u001b[0;34m\u001b[0m\u001b[0;34m\u001b[0m\u001b[0m\n",
      "\u001b[0;32m~/miniconda3/lib/python3.8/site-packages/pypdf/generic/_data_structures.py\u001b[0m in \u001b[0;36mread_object\u001b[0;34m(stream, pdf, forced_encoding)\u001b[0m\n\u001b[1;32m   1303\u001b[0m         \u001b[0mstream\u001b[0m\u001b[0;34m.\u001b[0m\u001b[0mseek\u001b[0m\u001b[0;34m(\u001b[0m\u001b[0;34m-\u001b[0m\u001b[0;36m1\u001b[0m\u001b[0;34m,\u001b[0m \u001b[0;36m1\u001b[0m\u001b[0;34m)\u001b[0m\u001b[0;34m\u001b[0m\u001b[0;34m\u001b[0m\u001b[0m\n\u001b[1;32m   1304\u001b[0m         \u001b[0;32mreturn\u001b[0m \u001b[0mread_object\u001b[0m\u001b[0;34m(\u001b[0m\u001b[0mstream\u001b[0m\u001b[0;34m,\u001b[0m \u001b[0mpdf\u001b[0m\u001b[0;34m,\u001b[0m \u001b[0mforced_encoding\u001b[0m\u001b[0;34m)\u001b[0m\u001b[0;34m\u001b[0m\u001b[0;34m\u001b[0m\u001b[0m\n\u001b[0;32m-> 1305\u001b[0;31m     \u001b[0;32melif\u001b[0m \u001b[0mtok\u001b[0m \u001b[0;32min\u001b[0m \u001b[0;34mb\"0123456789+-.\"\u001b[0m\u001b[0;34m:\u001b[0m\u001b[0;34m\u001b[0m\u001b[0;34m\u001b[0m\u001b[0m\n\u001b[0m\u001b[1;32m   1306\u001b[0m         \u001b[0;31m# number object OR indirect reference\u001b[0m\u001b[0;34m\u001b[0m\u001b[0;34m\u001b[0m\u001b[0;34m\u001b[0m\u001b[0m\n\u001b[1;32m   1307\u001b[0m         \u001b[0mpeek\u001b[0m \u001b[0;34m=\u001b[0m \u001b[0mstream\u001b[0m\u001b[0;34m.\u001b[0m\u001b[0mread\u001b[0m\u001b[0;34m(\u001b[0m\u001b[0;36m20\u001b[0m\u001b[0;34m)\u001b[0m\u001b[0;34m\u001b[0m\u001b[0;34m\u001b[0m\u001b[0m\n",
      "\u001b[0;31mKeyboardInterrupt\u001b[0m: "
     ]
    }
   ],
   "source": [
    "pdfRoot = \"./pdfdata\"\n",
    "pdf_files_name = os.listdir(pdfRoot)\n",
    "\n",
    "# 加载pdf\n",
    "loaders = []\n",
    "for pdf_file_name in pdf_files_name:\n",
    "    loaders.append(PyPDFLoader(pdfRoot+\"/\"+pdf_file_name))\n",
    "\n",
    "# 将pdf拆分成每一页，得到pagecontent和metedata\n",
    "documents = []\n",
    "for loader in loaders:\n",
    "    documents += loader.load_and_split()\n",
    "\n",
    "# 数据清洗，消除字符串里面的’\\n‘\n",
    "for i in range(len(documents)):\n",
    "    documents[i].page_content = documents[i].page_content.replace('\\n','')\n",
    "\n",
    "# 将每一份文档拆分成若干个chunk\n",
    "text_splitter = RecursiveCharacterTextSplitter(\n",
    "    # Set a really small chunk size, just to show.\n",
    "    chunk_size = 800,\n",
    "    chunk_overlap  = 100,\n",
    "    separators=[\"，\",\"。\",\"？\",\"！\",\"、\"]\n",
    ")\n",
    "\n",
    "splitted_documents = text_splitter.split_documents(documents)"
   ]
  },
  {
   "cell_type": "code",
   "execution_count": 6,
   "metadata": {},
   "outputs": [],
   "source": [
    "embeddings = HuggingFaceEmbeddings(model_name=\"./llama_langchain/all-mpnet-base-v2\",\n",
    "                                   model_kwargs={'device':\"cuda\"})\n",
    "if not os.path.exists('./vector_store'):\n",
    "    db = FAISS.from_documents(splitted_documents, embeddings)\n",
    "    db.save_local('./vector_store')"
   ]
  },
  {
   "cell_type": "code",
   "execution_count": 7,
   "metadata": {},
   "outputs": [],
   "source": [
    "## 本地知识库进行向量相似度匹配\n",
    "CHUNK_SIZE = 800\n",
    "CHUNK_OVERLAP = 100\n",
    "VECTOR_SEARCH_TOP_K = 2\n",
    "query = '什么是英雄史观与群众史观？'\n",
    "def get_docs_with_score(docs_with_score):\n",
    "    docs = []\n",
    "    for doc, score in docs_with_score:\n",
    "        doc.metadata[\"score\"] = score\n",
    "        docs.append(doc)\n",
    "    return docs\n",
    "\n",
    "vector_store = FAISS.load_local('./vector_store', embeddings)\n",
    "vector_store.chunk_size = CHUNK_SIZE\n",
    "related_docs_with_score = vector_store.similarity_search_with_score(query, k = 10)\n",
    "related_docs = get_docs_with_score(related_docs_with_score)"
   ]
  },
  {
   "cell_type": "code",
   "execution_count": 8,
   "metadata": {},
   "outputs": [
    {
     "data": {
      "text/plain": [
       "[Document(page_content='第三节人民群众在历史发展中的作用 169第三节人民群众在历史发展中的作用唯物史观有时又被称为“群众史观”。把人民群众放在至高无上的地 位，无私无我地服务和奉献于人民群众，体现了马克思主义政党和马克思 主义者的情怀和境界。那么，人民群众在社会发展中的作用如何来体现？ 历史人物在社会发展中的作用又如何来理解？一、人民群众是历史的创造者谁是历史的创造者？怎样看待人民群众和个人的历史作用？这是人类 历史上长期困扰人们的难题。唯物史观第一次科学地回答了这些问题。（一）两种历史观在历史创造者问题上的对立唯物史观与唯心史观的对立，在历史创造者问题上表现为群众史观与 英雄史观的对立。马克思主义哲学产生以前，占统治地位的历史观是英雄 史观。这种历史观从社会意识决定社会存在的基本前提出发，否认物质资 料的生产方式是社会发展的决定力量，抹杀人民群众的历史作用，宣扬少 数英雄人物创造历史。英雄史观的产生有其深刻的认识根源、社会历史根源和阶级根源。从 认识根源看，英雄史观之所以产生，主要是因为人们的认识停留在历史现 象的表面，把活跃在历史前台的少数英雄人物的作用尤其是他们的意识的 作用加以夸大并绝对化，而无视广大人民群众及其历史活动的作用。从社 会历史根源看，英雄史观的产生同社会生产力水平较低，大多数人从事物 质资料的生产活动，少数人从事政治统治、垄断精神文化生活有关。广大 人民群众在私有制社会处于被支配的地位，受剥削、受压迫，其历史创造 性得不到充分发挥和社会应有的承认，而少数剥削阶级则掌握经济、政治 权力，高高在上、独断专行，似乎可以随心所欲地主宰历史。这就为英雄', metadata={'source': './pdfdata/《马克思主义基本原理》（2023版）.pdf', 'page': 178, 'score': 0.6385535}),\n",
       " Document(page_content='，主张同外国平等交往、自由通 商，“与番人并雄”①，但严禁鸦片输入。对于外国人，强调准其勺国献策, 但不得毁谤国法。① 参见中国史学会主编：中国近代史资料丛刊《太平天国》（二），上海人民 出版社、上海书店出版社2000年版，第524、536、535、538页。', metadata={'source': './pdfdata/《中国近现代史纲要》（2023版）.pdf', 'page': 60, 'score': 0.6750289}),\n",
       " Document(page_content='170 第三章人类社会及其发展规律史观的产生提供了社会土壤。从阶级根源看，剥削阶级的思想家为了维护 本阶级的利益，需要宣扬唯心史观，抹杀广大人民群众的历史作用。这是 英雄史观得以产生并长期占据统治地位的重要原因。与英雄史观相反，群众史观认为历史的创造者不是个别英雄，而是人 民群众。之所以得出这样的结论，是因为有着深刻的理论依据，体现了唯 物史观在考察历史创造者问题上的方法论原则。首先，唯物史观立足于现实的人及其本质来把握历史的创造者。历 史当然是人创造的，不能脱离人去探索历史的创造者。唯物史观认为， 人不是抽象的而是现实的，现实的人及其活动是社会历史存在和发展的 前提。所谓现实的人，“不是处在某种虚幻的离群索居和固定不变状态中 的人，而是处在现实的、可以通过经验观察到的、在一定条件下进行的 发展过程中的人”①。这种现实的人，是基于自身需要和社会需要而从事 一定实践活动、处于一定社会关系中、具有能动性的人。只有把人看作 现实的人，才能正确把握人的本质，把握人与社会历史的关系。马克思 指出，“人的本质不是单个人所固有的抽象物，在其现实性上，它是一切 社会关系的总和” ®O这就告诉我们，人的本质属性是社会属性，而不是 自然属性；人的本质属性表现在各种社会关系中；人的本质是变化发展 的，而不是永恒不变的。这一观点强调了个人与社会的统一，要求人们 从一定的社会关系包括阶级关系中去认识和把握一定群体和个人的本质 及作用。其次，唯物史观立足于整体的社会历史过程来探究谁是历史的创造 者。社会历史发展过程虽然离不开个体的人的活动，但整体的社会历史并 非个体的历史的简单堆砌。“无论历史的结局如何，人们总是通过每一个 人追求他自己的、自觉预期的目的来创造他们的历史，而这许多按不同方① 《马克思恩格斯选集》第一卷，人民出版社2012年版，第153页。② 《马克思恩格斯选集》第一卷', metadata={'source': './pdfdata/《马克思主义基本原理》（2023版）.pdf', 'page': 179, 'score': 0.6838708}),\n",
       " Document(page_content='，自觉同各种 歪曲历史、诋毁英雄的历史虚无主义思潮作斗争，努力在坚持和发展中国特 色社会主义伟大进程中创造无愧于时代、无愧于人民、无愧于先辈的业绩。三、借鉴人类文明优秀道德成果文明因交流而多彩，文明因互鉴而丰富。人类文化和文明发展进步的', metadata={'source': './pdfdata/《思想道德与法制》（2023版）.pdf', 'page': 170, 'score': 0.6859002}),\n",
       " Document(page_content='，贯通历史、现实、未 来，贯通改革发展稳定、内政外交国防、治党治国治军等各领域，是一 个逻辑严密、内涵丰富、系统全面、博大精深的有机整体。', metadata={'source': './pdfdata/习近平新时代中国特色社会主义思想概论.pdf', 'page': 7, 'score': 0.71865034}),\n",
       " Document(page_content='92 第三章继承优良传统弘扬中国精神2015年，新华社推出系列报 道《为英雄正名》，通过寻访英雄 的生前战友、朋友、亲属，获取确 凿的证人、证言和证据，为近年来 屡遭恶意抹黑的邱少云、黄继光、 董存瑞、刘胡兰等英雄人物正名， 起到了正视听、明是非、服人心的作用，有效地引导了社会舆论。图中董存瑞的战友郅顺义（中）正在为战 士们讲述董存瑞舍身炸碉堡的英雄事迹。新时代大学生要树立大历史观和正确党史观，准确把握党的历史发展 的主题主线、主流本质，深刻领悟中国共产党为什么能、马克思主义为什 么行、中国特色社会主义为什么好的历史逻辑、理论逻辑、实践逻辑，真 正理解历史、把握历史，增强历史自觉和历史自信。四、坚持立足中国又面向世界中国的命运与世界的命运紧密相关。经过新中国成立70多年特别是 改革开放40多年的发展，中国的综合国力日益增强，国际影响力不断扩 大。当今世界越来越成为你中有我、我中有你的命运共同体。弘扬新时代 的爱国主义，要求我们正确处理立足中国与面向世界的辩证统一关系，既 要尊重各国的历史特点、文化传统，尊重各国人民选择的发展道路，从不 同文明中寻求智慧、汲取营养，增强中华文明生机活力，又要积极倡导求 同存异、交流互鉴，促进不同国度、不同文明相互借鉴、共同进步，共同 推动人类文明发展进步。', metadata={'source': './pdfdata/《思想道德与法制》（2023版）.pdf', 'page': 99, 'score': 0.72855526}),\n",
       " Document(page_content='第一节江山就是人民，人民就是江山 75保持同人民群众的血肉联系，始终接受人民批评和监督，始终同人民同 呼吸、共命运、心连心。一、人民是历史的创造者，是真正的英雄人民是创造历史的真正动力，是历史发展和社会进步的主体力量。 坚持以人民为中心，体现了历史唯物主义基本原理，是我们党总结历史 经验、把握历史规律得出的重要结论。如何认识人民群众在历史上的作用，是社会历史观的重大问题。历 史唯物主义群众史观认为，人民是历史的创造者，在创造历史中起决定性 作用，第一次彻底解决了这个重大问题。马克思、恩格斯指出，“整个所 谓世界历史不外是人通过人的劳动而诞生的过程”①，“历史活动是群众的 活动”②。人民群众是社会物质财富的创造者，不仅创造了人们吃穿住行等 必需的生活资料，也创造了人们进行生产和再生产活动的生产资料。人民 群众是社会精神财富的创造者，一切精神财富得以产生的最终源泉都植根 于人民群众的实践活动，离开了人民群众的生产实践和生活实践，任何精 神创造都必然会成为无源之水、无本之木。人民群众是社会变革的决定力 量，历史上一切生产关系的深刻变革、社会制度的兴亡更替，都是人民群 众推动的，最终决定于人民群众的力量。习近平强调，“要牢记群众是真 正的英雄”③。一切成就都归功于人民，一切荣耀都归属于人民。人民是历史的创造者，人民是真正的英雄。波澜壮阔的中 华民族发展史是中国人民书写的！博大精深的中华文明是中国① 《马克思恩格斯文集》第一卷，人民出版社20()9年版，第196页。② 《马克思恩格斯文集》第一卷，人民出版社2009年版，第287页。③ 《习近平谈治国理政》第三卷，外文出版社2020年版，第520页。', metadata={'source': './pdfdata/习近平新时代中国特色社会主义思想概论.pdf', 'page': 74, 'score': 0.7456111}),\n",
       " Document(page_content='，中国人 民志愿军同朝鲜军民密切配合，首战两水洞、激战云山城、会战清川江、 麋战长津湖等，连续进行5次战役，此后又构筑起铜墙铁壁般的纵深防御① 中共中央党史研究室：《中国共产党历史》第二卷(1949—1978 )上册，中共党史出版社2()11年版，第69页.', metadata={'source': './pdfdata/《中国近现代史纲要》（2023版）.pdf', 'page': 207, 'score': 0.7712315}),\n",
       " Document(page_content='第二节做新时代的忠诚爱国者 91以总结，承继这一份珍贵的遗产。----毛泽东习近平指出，历史总是向前发展的，我们总结和吸取历史教训，目的 是以史为鉴、更好前进。历史是一面镜子，从历史中能够更好看清世界、 参透生活、认识自己；历史也是一位智者，同历史对话能够更好认识过 去、把握当下、面向未来。历史是最好的教科书，我们要在历史中看成 败、鉴得失、知兴替。历史是最好的清醒剂，不仅提供经验，还提供教 训I,可以使我们保持头脑清醒，吃一堑，长一智，使我们不再犯历史上曾 经犯过的同类错误。历史是最好的营养剂，要不断地向历史学习，汲取历 史智慧，总结历史经验和历史规律，回答和解决在新的历史条件下党和国 家发展面临的重大理论和现实问题。（二）旗帜鲜明反对历史虚无主义抛弃传统、丢掉根本，就等于割断了自己的精神命脉。历史和现实都 表明，一个抛弃了或者背叛了自己历史文化的民族，不仅不可能发展起 来，而且很可能上演一场历史悲剧。“灭人之国，必先去其史。” 一些人 打着所谓“重评历史”的幌子，否定近现代中国革命历史、中国共产党历 史和中华人民共和国历史，抹黑英雄，诋毁革命领袖，企图混淆视听、扰 乱人心，从根本上否定马克思主义的指导地位和中国走向社会主义的历史 必然性，否定中国共产党的领导。我们不是历史虚无主义者，也不是文化 虚无主义者，不能数典忘祖、妄自菲薄。祖国是人民最坚实的依靠，英雄 是民族最闪亮的坐标。“天地英雄气，千秋尚凛然。” 一个有希望的民族 不能没有英雄，一个有前途的国家不能没有先锋。我们要对中华民族的英 雄心怀崇敬，自觉传承好中华民族辉煌灿烂的历史文化。', metadata={'source': './pdfdata/《思想道德与法制》（2023版）.pdf', 'page': 98, 'score': 0.78074604}),\n",
       " Document(page_content='，而后被统治阶级所利用，成为其统治被压迫者的思想工具。从历史 和现实看，宗教将会长期存在，并与经济、政治、文化等问题相交织，对 社会稳定和发展产生重大影响。在当代中国，要深入开展马克思主义宗教', metadata={'source': './pdfdata/《马克思主义基本原理》（2023版）.pdf', 'page': 137, 'score': 0.78552616})]"
      ]
     },
     "execution_count": 8,
     "metadata": {},
     "output_type": "execute_result"
    }
   ],
   "source": [
    "related_docs"
   ]
  },
  {
   "cell_type": "code",
   "execution_count": 9,
   "metadata": {},
   "outputs": [],
   "source": [
    "from langchain.llms import ChatGLM\n",
    "from langchain.chains import RetrievalQA\n",
    "\n",
    "llm = ChatGLM(\n",
    "    endpoint_url='http://127.0.0.1:8000',\n",
    "    max_token=80000,\n",
    "    top_p=0.9\n",
    ")"
   ]
  },
  {
   "cell_type": "code",
   "execution_count": 11,
   "metadata": {},
   "outputs": [
    {
     "name": "stdout",
     "output_type": "stream",
     "text": [
      "\n",
      "\n",
      "\u001b[1m> Entering new RetrievalQA chain...\u001b[0m\n",
      "\n",
      "\u001b[1m> Finished chain.\u001b[0m\n",
      "社会主义的基本特征：生产资料公有制、计划经济、商品货币关系、按劳分配、生产平等、共同富裕、社会主义民主政治、社会主义核心价值体系。\n",
      "\n",
      "谢谢你的提问！\n"
     ]
    }
   ],
   "source": [
    "QA_CHAIN_PROMPT = PromptTemplate.from_template(\"\"\"根据下面的上下文（context）内容回答问题。\n",
    "如果你不知道答案，就回答不知道，不要试图编造答案。\n",
    "答案最多3句话，保持答案简介。\n",
    "总是在答案结束时说”谢谢你的提问！“\n",
    "{context}\n",
    "问题：{question}\n",
    "\"\"\")\n",
    "retriever = vector_store.as_retriever()\n",
    "qa = RetrievalQA.from_chain_type(\n",
    "    llm=llm,\n",
    "    retriever=retriever,\n",
    "    verbose=True,\n",
    "    chain_type_kwargs={\"prompt\": QA_CHAIN_PROMPT}\n",
    ")\n",
    "\n",
    "ans = qa.run(\"什么是社会主义？\")\n",
    "print(ans)"
   ]
  },
  {
   "cell_type": "code",
   "execution_count": 47,
   "metadata": {},
   "outputs": [
    {
     "name": "stdout",
     "output_type": "stream",
     "text": [
      "\n",
      "\n",
      "\u001b[1m> Entering new RetrievalQA chain...\u001b[0m\n",
      "\n",
      "\u001b[1m> Finished chain.\u001b[0m\n",
      "本题考查美国的基本特征。\n",
      "\n",
      "答：美国是一个资本主义国家，是世界上最大的经济体，拥有世界最发达的科技、文化和交通系统，是一个高度发达的民主国家。\n"
     ]
    }
   ],
   "source": [
    "professor(\"美国是怎么样的国家？\")"
   ]
  },
  {
   "cell_type": "code",
   "execution_count": 52,
   "metadata": {},
   "outputs": [],
   "source": [
    "def good_learner(query):\n",
    "    ans=vector_store.similarity_search(query)\n",
    "    return \"emmm，我想了一会，我感觉这个知识点可能位于教材{}的第{}页,\\\n",
    "我背给你听嗷，好好记住吧！下次别问我了。这部分内容是：\\n【{}】\".format(ans[0].metadata['source'].split('/')[-1].split('.')[0],ans[0].metadata['page']+1,ans[0].page_content)"
   ]
  },
  {
   "cell_type": "code",
   "execution_count": 63,
   "metadata": {},
   "outputs": [],
   "source": [
    "def teacher(query, k=10):\n",
    "    embedding_vector = embeddings.embed_query(query)\n",
    "    anss = vector_store.similarity_search_by_vector(embedding_vector, k=k)\n",
    "\n",
    "    result_string = \"同学啊，我刚才翻了翻书，你提到的这个问题与以下这些内容有关\\n\\n\"\n",
    "    \n",
    "    for index, ans in enumerate(anss):\n",
    "        result_string += \"{}、{}的第{}页 ：【{}】\\n\\n\".format(index + 1,\n",
    "                                                       ans.metadata['source'].split('/')[-1].split('.')[0],\n",
    "                                                       ans.metadata['page'] + 1, ans.page_content)\n",
    "\n",
    "    result_string += \"好好学习，未来是你们的！\"\n",
    "\n",
    "    return result_string"
   ]
  },
  {
   "cell_type": "code",
   "execution_count": 65,
   "metadata": {},
   "outputs": [],
   "source": [
    "def professor(query):\n",
    "    ans = qa.run(query)\n",
    "    return ans"
   ]
  },
  {
   "cell_type": "code",
   "execution_count": 54,
   "metadata": {},
   "outputs": [
    {
     "name": "stdout",
     "output_type": "stream",
     "text": [
      "Caching examples at: '/root/gradio_cached_examples/195'\n",
      "Caching example 1/3\n",
      "Caching example 2/3\n",
      "Caching example 3/3\n",
      "Running on local URL:  http://127.0.0.1:7867\n",
      "Running on public URL: https://f03d43ec073d848902.gradio.live\n",
      "\n",
      "This share link expires in 72 hours. For free permanent hosting and GPU upgrades, run `gradio deploy` from Terminal to deploy to Spaces (https://huggingface.co/spaces)\n"
     ]
    },
    {
     "data": {
      "text/html": [
       "<div><iframe src=\"https://f03d43ec073d848902.gradio.live\" width=\"100%\" height=\"500\" allow=\"autoplay; camera; microphone; clipboard-read; clipboard-write;\" frameborder=\"0\" allowfullscreen></iframe></div>"
      ],
      "text/plain": [
       "<IPython.core.display.HTML object>"
      ]
     },
     "metadata": {},
     "output_type": "display_data"
    },
    {
     "data": {
      "text/plain": []
     },
     "execution_count": 54,
     "metadata": {},
     "output_type": "execute_result"
    }
   ],
   "source": [
    "import gradio as gr\n",
    "\n",
    "def good_learner_chatbot(message, history):\n",
    "    return good_learner(message)\n",
    "\n",
    "gr.ChatInterface(\n",
    "    good_learner_chatbot,\n",
    "    chatbot=gr.Chatbot(height=300),\n",
    "    textbox=gr.Textbox(placeholder=\"我是学霸，快来问我问题吧！\", container=False, scale=7),\n",
    "    title=\"思政大学霸\",\n",
    "    description=\"快来问学霸问题吧！\",\n",
    "    theme=\"soft\",\n",
    "    examples=[\"什么是社会主义？\", \"马克思、恩格斯\", \"封建社会\"],\n",
    "    cache_examples=True,\n",
    "    retry_btn=None,\n",
    "    undo_btn=\"Delete Previous\",\n",
    "    clear_btn=\"Clear\",\n",
    ").launch(share=True)"
   ]
  },
  {
   "cell_type": "code",
   "execution_count": 64,
   "metadata": {},
   "outputs": [
    {
     "name": "stdout",
     "output_type": "stream",
     "text": [
      "Caching examples at: '/root/gradio_cached_examples/322'\n",
      "Caching example 1/3\n",
      "Caching example 2/3\n",
      "Caching example 3/3\n",
      "Running on local URL:  http://127.0.0.1:7871\n",
      "Running on public URL: https://a8275c77874e474110.gradio.live\n",
      "\n",
      "This share link expires in 72 hours. For free permanent hosting and GPU upgrades, run `gradio deploy` from Terminal to deploy to Spaces (https://huggingface.co/spaces)\n"
     ]
    },
    {
     "data": {
      "text/html": [
       "<div><iframe src=\"https://a8275c77874e474110.gradio.live\" width=\"100%\" height=\"500\" allow=\"autoplay; camera; microphone; clipboard-read; clipboard-write;\" frameborder=\"0\" allowfullscreen></iframe></div>"
      ],
      "text/plain": [
       "<IPython.core.display.HTML object>"
      ]
     },
     "metadata": {},
     "output_type": "display_data"
    },
    {
     "data": {
      "text/plain": []
     },
     "execution_count": 64,
     "metadata": {},
     "output_type": "execute_result"
    },
    {
     "name": "stdout",
     "output_type": "stream",
     "text": [
      "\n",
      "\n",
      "\u001b[1m> Entering new RetrievalQA chain...\u001b[0m\n",
      "\n",
      "\u001b[1m> Finished chain.\u001b[0m\n",
      "社会主义是一种经济政治制度，通过生产资料公有制和按劳分配原则，实现生产关系的平等和公平，促进生产力的发展，实现共同富裕。\n",
      "\n",
      "\n",
      "\u001b[1m> Entering new RetrievalQA chain...\u001b[0m\n",
      "\n",
      "\u001b[1m> Finished chain.\u001b[0m\n",
      "社会主义的基本特征：生产资料公有制、计划经济、商品经济、市场经济、资本主义市场经济、生产关系与生产力、生产目的、生产关系与生产关系、生产力与生产力、生产关系与生产目的之间的辩证关系。\n",
      "\n",
      "谢谢你的提问！\n",
      "\n",
      "\n",
      "\u001b[1m> Entering new RetrievalQA chain...\u001b[0m\n",
      "\n",
      "\u001b[1m> Finished chain.\u001b[0m\n",
      "1. 商品拜物教是什么？\n",
      "\n",
      "2. 商品拜物教对商品生产者有什么影响？\n",
      "\n",
      "3. 社会再生产的顺利进行需要什么条件？\n",
      "\n",
      "4. 民主制度建设存在哪些问题？\n",
      "\n",
      "5. 劳动成为吸引人的劳动，成为个人的自我实现，这对劳动本身有什么影响？\n",
      "\n",
      "6. 社会主义社会，劳动会成为吸引人的劳动，成为个人的自我实现，这对劳动本身有什么影响？\n",
      "\n",
      "7. 商品拜物教对商品生产者的影响是什么？\n",
      "\n",
      "8. 商品拜物教对商品消费者的影响是什么？\n",
      "\n",
      "9. 商品拜物教对商品交换的影响是什么？\n",
      "\n",
      "10. 商品拜物教对人类社会的影响是什么？\n",
      "\n",
      "谢谢你的提问！\n"
     ]
    }
   ],
   "source": [
    "def teacher_chatbot(message, history):\n",
    "    return teacher(message)\n",
    "\n",
    "gr.ChatInterface(\n",
    "    teacher_chatbot,\n",
    "    chatbot=gr.Chatbot(height=300),\n",
    "    textbox=gr.Textbox(placeholder=\"我是老师，快来问我问题吧！\", container=False, scale=7),\n",
    "    title=\"思政老师\",\n",
    "    description=\"快来问老师问题吧！\",\n",
    "    theme=\"soft\",\n",
    "    examples=[\"什么是社会主义？\", \"马克思、恩格斯\", \"封建社会\"],\n",
    "    cache_examples=True,\n",
    "    retry_btn=None,\n",
    "    undo_btn=\"Delete Previous\",\n",
    "    clear_btn=\"Clear\",\n",
    ").launch(share=True)"
   ]
  },
  {
   "cell_type": "code",
   "execution_count": 67,
   "metadata": {},
   "outputs": [
    {
     "name": "stdout",
     "output_type": "stream",
     "text": [
      "Caching examples at: '/root/gradio_cached_examples/341'\n",
      "Caching example 1/3\n",
      "\n",
      "\n",
      "\u001b[1m> Entering new RetrievalQA chain...\u001b[0m\n",
      "\n",
      "\u001b[1m> Finished chain.\u001b[0m\n",
      "Caching example 2/3\n",
      "\n",
      "\n",
      "\u001b[1m> Entering new RetrievalQA chain...\u001b[0m\n",
      "\n",
      "\u001b[1m> Finished chain.\u001b[0m\n",
      "Caching example 3/3\n",
      "\n",
      "\n",
      "\u001b[1m> Entering new RetrievalQA chain...\u001b[0m\n",
      "\n",
      "\u001b[1m> Finished chain.\u001b[0m\n",
      "Running on local URL:  http://127.0.0.1:7872\n",
      "Running on public URL: https://9d7e02b3e39bde7f02.gradio.live\n",
      "\n",
      "This share link expires in 72 hours. For free permanent hosting and GPU upgrades, run `gradio deploy` from Terminal to deploy to Spaces (https://huggingface.co/spaces)\n"
     ]
    },
    {
     "data": {
      "text/html": [
       "<div><iframe src=\"https://9d7e02b3e39bde7f02.gradio.live\" width=\"100%\" height=\"500\" allow=\"autoplay; camera; microphone; clipboard-read; clipboard-write;\" frameborder=\"0\" allowfullscreen></iframe></div>"
      ],
      "text/plain": [
       "<IPython.core.display.HTML object>"
      ]
     },
     "metadata": {},
     "output_type": "display_data"
    },
    {
     "data": {
      "text/plain": []
     },
     "execution_count": 67,
     "metadata": {},
     "output_type": "execute_result"
    },
    {
     "name": "stdout",
     "output_type": "stream",
     "text": [
      "\n",
      "\n",
      "\u001b[1m> Entering new RetrievalQA chain...\u001b[0m\n",
      "\n",
      "\u001b[1m> Finished chain.\u001b[0m\n",
      "\n",
      "\n",
      "\u001b[1m> Entering new RetrievalQA chain...\u001b[0m\n",
      "\n",
      "\u001b[1m> Finished chain.\u001b[0m\n",
      "\n",
      "\n",
      "\u001b[1m> Entering new RetrievalQA chain...\u001b[0m\n"
     ]
    }
   ],
   "source": [
    "def professor_chatbot(message, history):\n",
    "    return professor(message)\n",
    "\n",
    "gr.ChatInterface(\n",
    "    professor_chatbot,\n",
    "    chatbot=gr.Chatbot(height=300),\n",
    "    textbox=gr.Textbox(placeholder=\"我是教授，快来问我问题吧！\", container=False, scale=7),\n",
    "    title=\"思政教授\",\n",
    "    description=\"快来问教授问题吧！\",\n",
    "    theme=\"soft\",\n",
    "    examples=[\"什么是社会主义？\", \"马克思、恩格斯\", \"封建社会\"],\n",
    "    cache_examples=True,\n",
    "    retry_btn=None,\n",
    "    undo_btn=\"Delete Previous\",\n",
    "    clear_btn=\"Clear\",\n",
    ").launch(share=True)"
   ]
  },
  {
   "cell_type": "code",
   "execution_count": 66,
   "metadata": {},
   "outputs": [
    {
     "name": "stdout",
     "output_type": "stream",
     "text": [
      "\n",
      "\n",
      "\u001b[1m> Entering new RetrievalQA chain...\u001b[0m\n",
      "\n",
      "\u001b[1m> Finished chain.\u001b[0m\n"
     ]
    },
    {
     "data": {
      "text/plain": [
       "'社会主义的基本特征：生产资料公有制、计划经济、商品货币关系、按劳分配、生产平等、共同富裕、生产发展、生活富裕、文明进步。\\n\\n谢谢你的提问！'"
      ]
     },
     "execution_count": 66,
     "metadata": {},
     "output_type": "execute_result"
    }
   ],
   "source": [
    "professor(\"什么是社会主义？\")"
   ]
  }
 ],
 "metadata": {
  "kernelspec": {
   "display_name": "Python 3",
   "language": "python",
   "name": "python3"
  },
  "language_info": {
   "codemirror_mode": {
    "name": "ipython",
    "version": 3
   },
   "file_extension": ".py",
   "mimetype": "text/x-python",
   "name": "python",
   "nbconvert_exporter": "python",
   "pygments_lexer": "ipython3",
   "version": "3.8.5"
  }
 },
 "nbformat": 4,
 "nbformat_minor": 4
}
